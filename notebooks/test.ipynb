{
 "cells": [
  {
   "cell_type": "code",
   "execution_count": 14,
   "metadata": {},
   "outputs": [],
   "source": [
    "import os\n",
    "from pprint import pprint\n",
    "from openai import OpenAI\n",
    "\n",
    "OPENAI_API_KEY = os.getenv(\"OPENAI_API_KEY\")\n",
    "\n",
    "client = OpenAI(api_key=OPENAI_API_KEY)"
   ]
  },
  {
   "cell_type": "code",
   "execution_count": 16,
   "metadata": {},
   "outputs": [],
   "source": [
    "def story_telling(prompt):\n",
    "    response = client.chat.completions.create(\n",
    "    model=\"gpt-3.5-turbo-0125\", # gpt-4-0125-preview\n",
    "    messages=[\n",
    "        {\"role\": \"system\", \"content\": prompt},\n",
    "        ],\n",
    "        temperature=1,\n",
    "        response_format={'type':\"json_object\"}  \n",
    "        )\n",
    "\n",
    "    data = response.choices[0].message.content\n",
    "\n",
    "    return eval(data)"
   ]
  },
  {
   "cell_type": "code",
   "execution_count": 27,
   "metadata": {},
   "outputs": [],
   "source": [
    "STORY_INTRODUCTION_SYSTEM_TEMPLATE = \"Compose a persuasive introduction for the story: {story_title}. Give response in JSON format as example: {example}\"\n",
    "STORY_INTRODUCTION_EXAMPLE_TEMPLATE = \"{story_line : 'Your response here'}\"\n",
    "\n",
    "STORY_TELLING_SYSTEM_TEMPLATE=\"You are an interactive story-teller. Craft an engaging story on the title: {story_title}. And follow this story line: {story_line} to better narrate the story. Make sure you are describing the story well. Give response in JSON format as example: {example}\"\n",
    "STORY_TELLING_EXAMPLE_TEMPLATE = \"{story : 'Your response here'}\""
   ]
  },
  {
   "cell_type": "code",
   "execution_count": 23,
   "metadata": {},
   "outputs": [],
   "source": [
    "story_title = \"The House of the Dragon\""
   ]
  },
  {
   "cell_type": "code",
   "execution_count": 21,
   "metadata": {},
   "outputs": [
    {
     "name": "stdout",
     "output_type": "stream",
     "text": [
      "('Welcome to the enchanting world of The House of the Dragon, where ancient '\n",
      " 'legends and powerful magic collide in an epic battle for control. Venture '\n",
      " 'into a realm of mythical creatures and heroic warriors as you follow the '\n",
      " 'story of the legendary dragon siblings who must unite to save their kingdom '\n",
      " 'from sinister forces. Join us on a journey filled with mystery, action, and '\n",
      " 'betrayal as alliances are tested and destinies are shaped. Are you ready to '\n",
      " 'immerse yourself in a thrilling fantasy adventure like no other?')\n"
     ]
    }
   ],
   "source": [
    "response = story_telling(STORY_INTRODUCTION_SYSTEM_TEMPLATE.format(story_title=story_title, example=STORY_INTRODUCTION_EXAMPLE_TEMPLATE))\n",
    "story_line = response['story_line']\n",
    "pprint(story_line)"
   ]
  },
  {
   "cell_type": "code",
   "execution_count": 28,
   "metadata": {},
   "outputs": [
    {
     "name": "stdout",
     "output_type": "stream",
     "text": [
      "{'story': 'In the mystical realm of The House of the Dragon, where ancient '\n",
      "          'legends and powerful magic intertwine, a fierce battle for control '\n",
      "          'unfolds. The kingdom is in turmoil as sinister forces threaten to '\n",
      "          'overthrow the rightful rulers. The legendary dragon siblings, born '\n",
      "          'of fire and ice, must put aside their differences and unite to save '\n",
      "          'their kingdom from destruction. As they journey through treacherous '\n",
      "          'lands filled with mythical creatures and heroic warriors, alliances '\n",
      "          'are tested and destinies are shaped. Betrayal lurks around every '\n",
      "          'corner, and the siblings must stay vigilant to uncover the true '\n",
      "          'intentions of those around them. Will they be able to harness their '\n",
      "          'combined powers and fulfill their destiny as saviors of the '\n",
      "          'kingdom, or will they fall prey to the darkness that seeks to '\n",
      "          'consume them? Join us on this thrilling fantasy adventure and '\n",
      "          'prepare to be swept away by a tale of courage, sacrifice, and the '\n",
      "          'enduring power of family bonds.'}\n"
     ]
    }
   ],
   "source": [
    "story = story_telling(STORY_TELLING_SYSTEM_TEMPLATE.format(story_title=story_title, story_line=story_line, example=STORY_TELLING_EXAMPLE_TEMPLATE))\n",
    "pprint(story)"
   ]
  },
  {
   "cell_type": "code",
   "execution_count": null,
   "metadata": {},
   "outputs": [],
   "source": []
  }
 ],
 "metadata": {
  "kernelspec": {
   "display_name": "Python 3",
   "language": "python",
   "name": "python3"
  },
  "language_info": {
   "codemirror_mode": {
    "name": "ipython",
    "version": 3
   },
   "file_extension": ".py",
   "mimetype": "text/x-python",
   "name": "python",
   "nbconvert_exporter": "python",
   "pygments_lexer": "ipython3",
   "version": "3.12.4"
  }
 },
 "nbformat": 4,
 "nbformat_minor": 2
}
